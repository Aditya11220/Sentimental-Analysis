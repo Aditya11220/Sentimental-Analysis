{
 "cells": [
  {
   "cell_type": "markdown",
   "id": "3a025608-9f4a-4c53-b85e-ee1a8708b2b4",
   "metadata": {},
   "source": [
    " # Start with Count Vectorizer Library for Bag of Words Project"
   ]
  },
  {
   "cell_type": "code",
   "execution_count": 10,
   "id": "a72a02d1-8c16-4073-99b1-59931eedcb8e",
   "metadata": {},
   "outputs": [
    {
     "name": "stdout",
     "output_type": "stream",
     "text": [
      "Vocabulary: ['is not' 'is the' 'love pasta' 'love pizza' 'not great' 'pasta is'\n",
      " 'pzza is' 'the best']\n",
      "BoW Matrix\n",
      " [[0 0 0 1 0 0 0 0]\n",
      " [0 1 0 0 0 0 1 1]\n",
      " [0 0 1 0 0 0 0 0]\n",
      " [1 0 0 0 1 1 0 0]]\n"
     ]
    }
   ],
   "source": [
    "# import countvectorizer library\n",
    "from sklearn.feature_extraction.text import CountVectorizer\n",
    "\n",
    "documents=[\n",
    "\"I Love pizza\",\n",
    "    \"Pzza is the best\",\n",
    "    \"I love pasta\",\n",
    "    \"Pasta is not great\"\n",
    "]\n",
    "# using vectorizer with ngram  \n",
    "vectorizer = CountVectorizer(ngram_range = (2,2))\n",
    "\n",
    "X = vectorizer.fit_transform(documents)\n",
    "print(\"Vocabulary:\", vectorizer.get_feature_names_out())\n",
    "print(\"BoW Matrix\\n\", X.toarray()) "
   ]
  },
  {
   "cell_type": "code",
   "execution_count": null,
   "id": "21db1730-7b5c-40b6-a6dc-55a188e4c592",
   "metadata": {},
   "outputs": [],
   "source": []
  }
 ],
 "metadata": {
  "kernelspec": {
   "display_name": "Python 3 (ipykernel)",
   "language": "python",
   "name": "python3"
  },
  "language_info": {
   "codemirror_mode": {
    "name": "ipython",
    "version": 3
   },
   "file_extension": ".py",
   "mimetype": "text/x-python",
   "name": "python",
   "nbconvert_exporter": "python",
   "pygments_lexer": "ipython3",
   "version": "3.13.7"
  }
 },
 "nbformat": 4,
 "nbformat_minor": 5
}
